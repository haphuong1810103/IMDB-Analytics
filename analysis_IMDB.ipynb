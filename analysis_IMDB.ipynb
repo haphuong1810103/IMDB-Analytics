{
 "cells": [
  {
   "cell_type": "code",
   "execution_count": 1,
   "metadata": {},
   "outputs": [],
   "source": [
    "import pandas as pd \n",
    "import numpy as np \n",
    "import seaborn as sns\n",
    "import matplotlib.pyplot as plt "
   ]
  },
  {
   "cell_type": "code",
   "execution_count": 2,
   "metadata": {},
   "outputs": [
    {
     "data": {
      "text/html": [
       "<style>\n",
       ".rendered_html p {\n",
       "    font-size: 14px;\n",
       "    font-family: Ubuntu Mono;\n",
       "    text-align:justify}\n",
       "</style>\n"
      ],
      "text/plain": [
       "<IPython.core.display.HTML object>"
      ]
     },
     "metadata": {},
     "output_type": "display_data"
    }
   ],
   "source": [
    "%%html\n",
    "<style>\n",
    ".rendered_html p {\n",
    "    font-size: 14px;\n",
    "    font-family: Ubuntu Mono;\n",
    "    text-align:justify}\n",
    "</style>"
   ]
  },
  {
   "cell_type": "markdown",
   "metadata": {},
   "source": [
    "**General Insights:**\n",
    "\n",
    "- What is the average movie rating?\n",
    "- How many movies were released each year?\n",
    "- What is the distribution of movie ratings?\n",
    "\n",
    "**Popularity and Votes:**\n",
    "\n",
    "- Which movie has the highest number of votes?\n",
    "- Is there a correlation between the number of votes and the movie rating?\n",
    "- Which year had the most popular movies based on votes?\n",
    "\n",
    "\n",
    "**Metascore Analysis:**\n",
    "\n",
    "- How does the Metascore correlate with the IMDB rating?\n",
    "- Which genres or classifications tend to have higher Metascores?\n",
    "\n",
    "**Time Trends:**\n",
    "\n",
    "- How has average movie rating changed over the years?\n",
    "- Are there trends in movie length (watchtime) over time?\n",
    "\n",
    "**Genres and Classifications:**\n",
    "\n",
    "- What are the most common classifications (e.g., PG-13, R, etc.)?\n",
    "- Which genre tends to have the highest average rating?"
   ]
  },
  {
   "cell_type": "markdown",
   "metadata": {},
   "source": [
    "\n",
    "- Identify genres or classifications that consistently receive high ratings and popularity. This information can guide decisions on which types of movies to invest in or produce more of.\n",
    "Timing and Release Strategies:\n",
    "\n",
    "- Analyze if there are specific times of the year or years when movies tend to perform better in terms of ratings and popularity. This can inform decisions on optimal release dates or seasons for new movie releases."
   ]
  },
  {
   "cell_type": "code",
   "execution_count": 3,
   "metadata": {},
   "outputs": [],
   "source": [
    "df = pd.read_csv('Top_100_IMDB_Movies.csv')"
   ]
  },
  {
   "cell_type": "code",
   "execution_count": 4,
   "metadata": {},
   "outputs": [
    {
     "name": "stdout",
     "output_type": "stream",
     "text": [
      "<class 'pandas.core.frame.DataFrame'>\n",
      "RangeIndex: 100 entries, 0 to 99\n",
      "Data columns (total 8 columns):\n",
      " #   Column          Non-Null Count  Dtype  \n",
      "---  ------          --------------  -----  \n",
      " 0   title           100 non-null    object \n",
      " 1   description     100 non-null    object \n",
      " 2   release_year    100 non-null    int64  \n",
      " 3   duration        100 non-null    object \n",
      " 4   classification  100 non-null    object \n",
      " 5   rating          100 non-null    float64\n",
      " 6   metascore       86 non-null     float64\n",
      " 7   votes_count     100 non-null    object \n",
      "dtypes: float64(2), int64(1), object(5)\n",
      "memory usage: 6.4+ KB\n"
     ]
    }
   ],
   "source": [
    "df.info()"
   ]
  },
  {
   "cell_type": "code",
   "execution_count": 5,
   "metadata": {},
   "outputs": [
    {
     "data": {
      "text/html": [
       "<div>\n",
       "<style scoped>\n",
       "    .dataframe tbody tr th:only-of-type {\n",
       "        vertical-align: middle;\n",
       "    }\n",
       "\n",
       "    .dataframe tbody tr th {\n",
       "        vertical-align: top;\n",
       "    }\n",
       "\n",
       "    .dataframe thead th {\n",
       "        text-align: right;\n",
       "    }\n",
       "</style>\n",
       "<table border=\"1\" class=\"dataframe\">\n",
       "  <thead>\n",
       "    <tr style=\"text-align: right;\">\n",
       "      <th></th>\n",
       "      <th>title</th>\n",
       "      <th>description</th>\n",
       "      <th>release_year</th>\n",
       "      <th>duration</th>\n",
       "      <th>classification</th>\n",
       "      <th>rating</th>\n",
       "      <th>metascore</th>\n",
       "      <th>votes_count</th>\n",
       "    </tr>\n",
       "  </thead>\n",
       "  <tbody>\n",
       "    <tr>\n",
       "      <th>0</th>\n",
       "      <td>1. The Shawshank Redemption</td>\n",
       "      <td>Over the course of several years, two convicts...</td>\n",
       "      <td>1994</td>\n",
       "      <td>2h 22m</td>\n",
       "      <td>15</td>\n",
       "      <td>8.3</td>\n",
       "      <td>82.0</td>\n",
       "      <td>2.9M</td>\n",
       "    </tr>\n",
       "    <tr>\n",
       "      <th>1</th>\n",
       "      <td>2. The Godfather</td>\n",
       "      <td>Don Vito Corleone, head of a mafia family, dec...</td>\n",
       "      <td>1972</td>\n",
       "      <td>2h 55m</td>\n",
       "      <td>15</td>\n",
       "      <td>8.3</td>\n",
       "      <td>100.0</td>\n",
       "      <td>2M</td>\n",
       "    </tr>\n",
       "    <tr>\n",
       "      <th>2</th>\n",
       "      <td>3. The Dark Knight</td>\n",
       "      <td>When the menace known as the Joker wreaks havo...</td>\n",
       "      <td>2008</td>\n",
       "      <td>2h 32m</td>\n",
       "      <td>12A</td>\n",
       "      <td>8.3</td>\n",
       "      <td>84.0</td>\n",
       "      <td>2.9M</td>\n",
       "    </tr>\n",
       "    <tr>\n",
       "      <th>3</th>\n",
       "      <td>4. Schindler's List</td>\n",
       "      <td>In German-occupied Poland during World War II,...</td>\n",
       "      <td>1993</td>\n",
       "      <td>3h 15m</td>\n",
       "      <td>15</td>\n",
       "      <td>8.3</td>\n",
       "      <td>95.0</td>\n",
       "      <td>1.5M</td>\n",
       "    </tr>\n",
       "    <tr>\n",
       "      <th>4</th>\n",
       "      <td>5. The Lord of the Rings: The Return of the King</td>\n",
       "      <td>Gandalf and Aragorn lead the World of Men agai...</td>\n",
       "      <td>2003</td>\n",
       "      <td>3h 21m</td>\n",
       "      <td>12A</td>\n",
       "      <td>8.3</td>\n",
       "      <td>94.0</td>\n",
       "      <td>2M</td>\n",
       "    </tr>\n",
       "  </tbody>\n",
       "</table>\n",
       "</div>"
      ],
      "text/plain": [
       "                                              title  \\\n",
       "0                       1. The Shawshank Redemption   \n",
       "1                                  2. The Godfather   \n",
       "2                                3. The Dark Knight   \n",
       "3                               4. Schindler's List   \n",
       "4  5. The Lord of the Rings: The Return of the King   \n",
       "\n",
       "                                         description  release_year duration  \\\n",
       "0  Over the course of several years, two convicts...          1994   2h 22m   \n",
       "1  Don Vito Corleone, head of a mafia family, dec...          1972   2h 55m   \n",
       "2  When the menace known as the Joker wreaks havo...          2008   2h 32m   \n",
       "3  In German-occupied Poland during World War II,...          1993   3h 15m   \n",
       "4  Gandalf and Aragorn lead the World of Men agai...          2003   3h 21m   \n",
       "\n",
       "  classification  rating  metascore votes_count  \n",
       "0             15     8.3       82.0        2.9M  \n",
       "1             15     8.3      100.0          2M  \n",
       "2            12A     8.3       84.0        2.9M  \n",
       "3             15     8.3       95.0        1.5M  \n",
       "4            12A     8.3       94.0          2M  "
      ]
     },
     "execution_count": 5,
     "metadata": {},
     "output_type": "execute_result"
    }
   ],
   "source": [
    "df.head()"
   ]
  },
  {
   "cell_type": "markdown",
   "metadata": {},
   "source": [
    "## Part 1: Cleaning data"
   ]
  },
  {
   "cell_type": "markdown",
   "metadata": {},
   "source": [
    "> **Clean column title**"
   ]
  },
  {
   "cell_type": "code",
   "execution_count": 6,
   "metadata": {},
   "outputs": [
    {
     "data": {
      "text/plain": [
       "0                         1. The Shawshank Redemption\n",
       "1                                    2. The Godfather\n",
       "2                                  3. The Dark Knight\n",
       "3                                 4. Schindler's List\n",
       "4    5. The Lord of the Rings: The Return of the King\n",
       "Name: title, dtype: object"
      ]
     },
     "execution_count": 6,
     "metadata": {},
     "output_type": "execute_result"
    }
   ],
   "source": [
    "df['title'].head()"
   ]
  },
  {
   "cell_type": "code",
   "execution_count": 7,
   "metadata": {},
   "outputs": [],
   "source": [
    "new = df['title'].str.split(\" \", n = 1, expand = True)"
   ]
  },
  {
   "cell_type": "code",
   "execution_count": 8,
   "metadata": {},
   "outputs": [],
   "source": [
    "df['title'] = new[1]"
   ]
  },
  {
   "cell_type": "code",
   "execution_count": 9,
   "metadata": {},
   "outputs": [
    {
     "data": {
      "text/plain": [
       "0                          The Shawshank Redemption\n",
       "1                                     The Godfather\n",
       "2                                   The Dark Knight\n",
       "3                                  Schindler's List\n",
       "4     The Lord of the Rings: The Return of the King\n",
       "                          ...                      \n",
       "95                                  American Beauty\n",
       "96                                Good Will Hunting\n",
       "97                                             Heat\n",
       "98                               A Clockwork Orange\n",
       "99                                        Incendies\n",
       "Name: title, Length: 100, dtype: object"
      ]
     },
     "execution_count": 9,
     "metadata": {},
     "output_type": "execute_result"
    }
   ],
   "source": [
    "df['title']"
   ]
  },
  {
   "cell_type": "markdown",
   "metadata": {},
   "source": [
    "> **Convert 'watch_time' column to minute**"
   ]
  },
  {
   "cell_type": "code",
   "execution_count": 10,
   "metadata": {},
   "outputs": [],
   "source": [
    "def convert_to_hour(time):\n",
    "    time = time.split(' ')\n",
    "    hour = int(time[0].split('h')[0].strip())\n",
    "    if len(time) == 2:\n",
    "        minute = int(time[1].split('m')[0].strip())\n",
    "        return hour*60 + minute\n",
    "    else:\n",
    "        return hour*60\n",
    "    "
   ]
  },
  {
   "cell_type": "code",
   "execution_count": 11,
   "metadata": {},
   "outputs": [],
   "source": [
    "df['duration'] = df['duration'].apply(convert_to_hour)"
   ]
  },
  {
   "cell_type": "markdown",
   "metadata": {},
   "source": [
    "> **Convert votes_count to K**"
   ]
  },
  {
   "cell_type": "code",
   "execution_count": 12,
   "metadata": {},
   "outputs": [
    {
     "data": {
      "text/plain": [
       "0     2.9M\n",
       "1       2M\n",
       "2     2.9M\n",
       "3     1.5M\n",
       "4       2M\n",
       "      ... \n",
       "95    1.2M\n",
       "96    1.1M\n",
       "97    725K\n",
       "98    886K\n",
       "99    205K\n",
       "Name: votes_count, Length: 100, dtype: object"
      ]
     },
     "execution_count": 12,
     "metadata": {},
     "output_type": "execute_result"
    }
   ],
   "source": [
    "df['votes_count']"
   ]
  },
  {
   "cell_type": "code",
   "execution_count": 13,
   "metadata": {},
   "outputs": [],
   "source": [
    "def convert_to_K(votes):\n",
    "    if 'M' in votes:\n",
    "        return float(votes.replace('M', '')) * 1000\n",
    "    else:\n",
    "        return float(votes.replace('K', ''))"
   ]
  },
  {
   "cell_type": "code",
   "execution_count": 14,
   "metadata": {},
   "outputs": [],
   "source": [
    "df['votes_count(K)'] = df['votes_count'].apply(convert_to_K)"
   ]
  },
  {
   "cell_type": "code",
   "execution_count": 15,
   "metadata": {},
   "outputs": [],
   "source": [
    "df.drop(columns=['votes_count'], inplace=True)"
   ]
  },
  {
   "cell_type": "code",
   "execution_count": 16,
   "metadata": {},
   "outputs": [
    {
     "data": {
      "text/html": [
       "<div>\n",
       "<style scoped>\n",
       "    .dataframe tbody tr th:only-of-type {\n",
       "        vertical-align: middle;\n",
       "    }\n",
       "\n",
       "    .dataframe tbody tr th {\n",
       "        vertical-align: top;\n",
       "    }\n",
       "\n",
       "    .dataframe thead th {\n",
       "        text-align: right;\n",
       "    }\n",
       "</style>\n",
       "<table border=\"1\" class=\"dataframe\">\n",
       "  <thead>\n",
       "    <tr style=\"text-align: right;\">\n",
       "      <th></th>\n",
       "      <th>title</th>\n",
       "      <th>description</th>\n",
       "      <th>release_year</th>\n",
       "      <th>duration</th>\n",
       "      <th>classification</th>\n",
       "      <th>rating</th>\n",
       "      <th>metascore</th>\n",
       "      <th>votes_count(K)</th>\n",
       "    </tr>\n",
       "  </thead>\n",
       "  <tbody>\n",
       "    <tr>\n",
       "      <th>0</th>\n",
       "      <td>The Shawshank Redemption</td>\n",
       "      <td>Over the course of several years, two convicts...</td>\n",
       "      <td>1994</td>\n",
       "      <td>142</td>\n",
       "      <td>15</td>\n",
       "      <td>8.3</td>\n",
       "      <td>82.0</td>\n",
       "      <td>2900.0</td>\n",
       "    </tr>\n",
       "    <tr>\n",
       "      <th>1</th>\n",
       "      <td>The Godfather</td>\n",
       "      <td>Don Vito Corleone, head of a mafia family, dec...</td>\n",
       "      <td>1972</td>\n",
       "      <td>175</td>\n",
       "      <td>15</td>\n",
       "      <td>8.3</td>\n",
       "      <td>100.0</td>\n",
       "      <td>2000.0</td>\n",
       "    </tr>\n",
       "    <tr>\n",
       "      <th>2</th>\n",
       "      <td>The Dark Knight</td>\n",
       "      <td>When the menace known as the Joker wreaks havo...</td>\n",
       "      <td>2008</td>\n",
       "      <td>152</td>\n",
       "      <td>12A</td>\n",
       "      <td>8.3</td>\n",
       "      <td>84.0</td>\n",
       "      <td>2900.0</td>\n",
       "    </tr>\n",
       "    <tr>\n",
       "      <th>3</th>\n",
       "      <td>Schindler's List</td>\n",
       "      <td>In German-occupied Poland during World War II,...</td>\n",
       "      <td>1993</td>\n",
       "      <td>195</td>\n",
       "      <td>15</td>\n",
       "      <td>8.3</td>\n",
       "      <td>95.0</td>\n",
       "      <td>1500.0</td>\n",
       "    </tr>\n",
       "    <tr>\n",
       "      <th>4</th>\n",
       "      <td>The Lord of the Rings: The Return of the King</td>\n",
       "      <td>Gandalf and Aragorn lead the World of Men agai...</td>\n",
       "      <td>2003</td>\n",
       "      <td>201</td>\n",
       "      <td>12A</td>\n",
       "      <td>8.3</td>\n",
       "      <td>94.0</td>\n",
       "      <td>2000.0</td>\n",
       "    </tr>\n",
       "  </tbody>\n",
       "</table>\n",
       "</div>"
      ],
      "text/plain": [
       "                                           title  \\\n",
       "0                       The Shawshank Redemption   \n",
       "1                                  The Godfather   \n",
       "2                                The Dark Knight   \n",
       "3                               Schindler's List   \n",
       "4  The Lord of the Rings: The Return of the King   \n",
       "\n",
       "                                         description  release_year  duration  \\\n",
       "0  Over the course of several years, two convicts...          1994       142   \n",
       "1  Don Vito Corleone, head of a mafia family, dec...          1972       175   \n",
       "2  When the menace known as the Joker wreaks havo...          2008       152   \n",
       "3  In German-occupied Poland during World War II,...          1993       195   \n",
       "4  Gandalf and Aragorn lead the World of Men agai...          2003       201   \n",
       "\n",
       "  classification  rating  metascore  votes_count(K)  \n",
       "0             15     8.3       82.0          2900.0  \n",
       "1             15     8.3      100.0          2000.0  \n",
       "2            12A     8.3       84.0          2900.0  \n",
       "3             15     8.3       95.0          1500.0  \n",
       "4            12A     8.3       94.0          2000.0  "
      ]
     },
     "execution_count": 16,
     "metadata": {},
     "output_type": "execute_result"
    }
   ],
   "source": [
    "df.head()"
   ]
  },
  {
   "cell_type": "code",
   "execution_count": 17,
   "metadata": {},
   "outputs": [
    {
     "data": {
      "text/plain": [
       "title              0\n",
       "description        0\n",
       "release_year       0\n",
       "duration           0\n",
       "classification     0\n",
       "rating             0\n",
       "metascore         14\n",
       "votes_count(K)     0\n",
       "dtype: int64"
      ]
     },
     "execution_count": 17,
     "metadata": {},
     "output_type": "execute_result"
    }
   ],
   "source": [
    "df.isna().sum()"
   ]
  },
  {
   "cell_type": "code",
   "execution_count": 18,
   "metadata": {},
   "outputs": [
    {
     "data": {
      "text/plain": [
       "np.int64(0)"
      ]
     },
     "execution_count": 18,
     "metadata": {},
     "output_type": "execute_result"
    }
   ],
   "source": [
    "df.duplicated().sum()"
   ]
  },
  {
   "cell_type": "markdown",
   "metadata": {},
   "source": [
    "Data does not have duplicated value, and metascores can be null so no need to remove "
   ]
  },
  {
   "cell_type": "markdown",
   "metadata": {},
   "source": [
    "## Part 2: Analysis "
   ]
  },
  {
   "cell_type": "code",
   "execution_count": 19,
   "metadata": {},
   "outputs": [
    {
     "data": {
      "text/html": [
       "<div>\n",
       "<style scoped>\n",
       "    .dataframe tbody tr th:only-of-type {\n",
       "        vertical-align: middle;\n",
       "    }\n",
       "\n",
       "    .dataframe tbody tr th {\n",
       "        vertical-align: top;\n",
       "    }\n",
       "\n",
       "    .dataframe thead th {\n",
       "        text-align: right;\n",
       "    }\n",
       "</style>\n",
       "<table border=\"1\" class=\"dataframe\">\n",
       "  <thead>\n",
       "    <tr style=\"text-align: right;\">\n",
       "      <th></th>\n",
       "      <th>title</th>\n",
       "      <th>description</th>\n",
       "      <th>release_year</th>\n",
       "      <th>duration</th>\n",
       "      <th>classification</th>\n",
       "      <th>rating</th>\n",
       "      <th>metascore</th>\n",
       "      <th>votes_count(K)</th>\n",
       "    </tr>\n",
       "  </thead>\n",
       "  <tbody>\n",
       "    <tr>\n",
       "      <th>0</th>\n",
       "      <td>The Shawshank Redemption</td>\n",
       "      <td>Over the course of several years, two convicts...</td>\n",
       "      <td>1994</td>\n",
       "      <td>142</td>\n",
       "      <td>15</td>\n",
       "      <td>8.3</td>\n",
       "      <td>82.0</td>\n",
       "      <td>2900.0</td>\n",
       "    </tr>\n",
       "    <tr>\n",
       "      <th>1</th>\n",
       "      <td>The Godfather</td>\n",
       "      <td>Don Vito Corleone, head of a mafia family, dec...</td>\n",
       "      <td>1972</td>\n",
       "      <td>175</td>\n",
       "      <td>15</td>\n",
       "      <td>8.3</td>\n",
       "      <td>100.0</td>\n",
       "      <td>2000.0</td>\n",
       "    </tr>\n",
       "    <tr>\n",
       "      <th>2</th>\n",
       "      <td>The Dark Knight</td>\n",
       "      <td>When the menace known as the Joker wreaks havo...</td>\n",
       "      <td>2008</td>\n",
       "      <td>152</td>\n",
       "      <td>12A</td>\n",
       "      <td>8.3</td>\n",
       "      <td>84.0</td>\n",
       "      <td>2900.0</td>\n",
       "    </tr>\n",
       "    <tr>\n",
       "      <th>3</th>\n",
       "      <td>Schindler's List</td>\n",
       "      <td>In German-occupied Poland during World War II,...</td>\n",
       "      <td>1993</td>\n",
       "      <td>195</td>\n",
       "      <td>15</td>\n",
       "      <td>8.3</td>\n",
       "      <td>95.0</td>\n",
       "      <td>1500.0</td>\n",
       "    </tr>\n",
       "    <tr>\n",
       "      <th>4</th>\n",
       "      <td>The Lord of the Rings: The Return of the King</td>\n",
       "      <td>Gandalf and Aragorn lead the World of Men agai...</td>\n",
       "      <td>2003</td>\n",
       "      <td>201</td>\n",
       "      <td>12A</td>\n",
       "      <td>8.3</td>\n",
       "      <td>94.0</td>\n",
       "      <td>2000.0</td>\n",
       "    </tr>\n",
       "  </tbody>\n",
       "</table>\n",
       "</div>"
      ],
      "text/plain": [
       "                                           title  \\\n",
       "0                       The Shawshank Redemption   \n",
       "1                                  The Godfather   \n",
       "2                                The Dark Knight   \n",
       "3                               Schindler's List   \n",
       "4  The Lord of the Rings: The Return of the King   \n",
       "\n",
       "                                         description  release_year  duration  \\\n",
       "0  Over the course of several years, two convicts...          1994       142   \n",
       "1  Don Vito Corleone, head of a mafia family, dec...          1972       175   \n",
       "2  When the menace known as the Joker wreaks havo...          2008       152   \n",
       "3  In German-occupied Poland during World War II,...          1993       195   \n",
       "4  Gandalf and Aragorn lead the World of Men agai...          2003       201   \n",
       "\n",
       "  classification  rating  metascore  votes_count(K)  \n",
       "0             15     8.3       82.0          2900.0  \n",
       "1             15     8.3      100.0          2000.0  \n",
       "2            12A     8.3       84.0          2900.0  \n",
       "3             15     8.3       95.0          1500.0  \n",
       "4            12A     8.3       94.0          2000.0  "
      ]
     },
     "execution_count": 19,
     "metadata": {},
     "output_type": "execute_result"
    }
   ],
   "source": [
    "df.head()"
   ]
  },
  {
   "cell_type": "markdown",
   "metadata": {},
   "source": [
    "> **How many movies were released each year?**"
   ]
  },
  {
   "cell_type": "code",
   "execution_count": 20,
   "metadata": {},
   "outputs": [],
   "source": [
    "movies_per_year = df['release_year'].value_counts().sort_index()"
   ]
  },
  {
   "cell_type": "code",
   "execution_count": 21,
   "metadata": {},
   "outputs": [
    {
     "data": {
      "image/png": "[encoded data removed]",
      "text/plain": [
       "<Figure size 1200x600 with 1 Axes>"
      ]
     },
     "metadata": {},
     "output_type": "display_data"
    }
   ],
   "source": [
    "sns.set(style='darkgrid')\n",
    "plt.figure(figsize=(12, 6))\n",
    "ax = sns.lineplot(x=movies_per_year.index, y=movies_per_year.values)   \n",
    "\n",
    "plt.title('Number of Movies Released Each Year')\n",
    "plt.xlabel('Year')\n",
    "plt.ylabel('Number of Movies')\n",
    "plt.show()"
   ]
  },
  {
   "cell_type": "code",
   "execution_count": 22,
   "metadata": {},
   "outputs": [
    {
     "data": {
      "text/plain": [
       "[1994, 2019]"
      ]
     },
     "execution_count": 22,
     "metadata": {},
     "output_type": "execute_result"
    }
   ],
   "source": [
    "years_with_max_count = movies_per_year[movies_per_year == movies_per_year.max()].index.tolist()\n",
    "years_with_max_count"
   ]
  },
  {
   "cell_type": "code",
   "execution_count": 23,
   "metadata": {},
   "outputs": [],
   "source": [
    "movies_1994_2019 = df[(df['release_year'] == 1994) | (df['release_year'] == 2019)]"
   ]
  },
  {
   "cell_type": "code",
   "execution_count": 24,
   "metadata": {},
   "outputs": [
    {
     "data": {
      "text/html": [
       "<div>\n",
       "<style scoped>\n",
       "    .dataframe tbody tr th:only-of-type {\n",
       "        vertical-align: middle;\n",
       "    }\n",
       "\n",
       "    .dataframe tbody tr th {\n",
       "        vertical-align: top;\n",
       "    }\n",
       "\n",
       "    .dataframe thead th {\n",
       "        text-align: right;\n",
       "    }\n",
       "</style>\n",
       "<table border=\"1\" class=\"dataframe\">\n",
       "  <thead>\n",
       "    <tr style=\"text-align: right;\">\n",
       "      <th></th>\n",
       "      <th>title</th>\n",
       "      <th>description</th>\n",
       "      <th>release_year</th>\n",
       "      <th>duration</th>\n",
       "      <th>classification</th>\n",
       "      <th>rating</th>\n",
       "      <th>metascore</th>\n",
       "      <th>votes_count(K)</th>\n",
       "    </tr>\n",
       "  </thead>\n",
       "  <tbody>\n",
       "    <tr>\n",
       "      <th>0</th>\n",
       "      <td>The Shawshank Redemption</td>\n",
       "      <td>Over the course of several years, two convicts...</td>\n",
       "      <td>1994</td>\n",
       "      <td>142</td>\n",
       "      <td>15</td>\n",
       "      <td>8.3</td>\n",
       "      <td>82.0</td>\n",
       "      <td>2900.0</td>\n",
       "    </tr>\n",
       "    <tr>\n",
       "      <th>8</th>\n",
       "      <td>Pulp Fiction</td>\n",
       "      <td>The lives of two mob hitmen, a boxer, a gangst...</td>\n",
       "      <td>1994</td>\n",
       "      <td>154</td>\n",
       "      <td>18</td>\n",
       "      <td>8.3</td>\n",
       "      <td>95.0</td>\n",
       "      <td>2200.0</td>\n",
       "    </tr>\n",
       "    <tr>\n",
       "      <th>10</th>\n",
       "      <td>Forrest Gump</td>\n",
       "      <td>The history of the United States from the 1950...</td>\n",
       "      <td>1994</td>\n",
       "      <td>142</td>\n",
       "      <td>12</td>\n",
       "      <td>8.3</td>\n",
       "      <td>82.0</td>\n",
       "      <td>2300.0</td>\n",
       "    </tr>\n",
       "    <tr>\n",
       "      <th>41</th>\n",
       "      <td>Parasite</td>\n",
       "      <td>Greed and class discrimination threaten the ne...</td>\n",
       "      <td>2019</td>\n",
       "      <td>132</td>\n",
       "      <td>15</td>\n",
       "      <td>8.3</td>\n",
       "      <td>97.0</td>\n",
       "      <td>976.0</td>\n",
       "    </tr>\n",
       "    <tr>\n",
       "      <th>45</th>\n",
       "      <td>Leon</td>\n",
       "      <td>12-year-old Mathilda is reluctantly taken in b...</td>\n",
       "      <td>1994</td>\n",
       "      <td>110</td>\n",
       "      <td>18</td>\n",
       "      <td>8.3</td>\n",
       "      <td>64.0</td>\n",
       "      <td>1300.0</td>\n",
       "    </tr>\n",
       "    <tr>\n",
       "      <th>47</th>\n",
       "      <td>The Lion King</td>\n",
       "      <td>Lion prince Simba and his father are targeted ...</td>\n",
       "      <td>1994</td>\n",
       "      <td>88</td>\n",
       "      <td>U</td>\n",
       "      <td>8.3</td>\n",
       "      <td>88.0</td>\n",
       "      <td>1200.0</td>\n",
       "    </tr>\n",
       "    <tr>\n",
       "      <th>64</th>\n",
       "      <td>Avengers: Endgame</td>\n",
       "      <td>After the devastating events of Avengers: Infi...</td>\n",
       "      <td>2019</td>\n",
       "      <td>181</td>\n",
       "      <td>12A</td>\n",
       "      <td>8.3</td>\n",
       "      <td>78.0</td>\n",
       "      <td>1300.0</td>\n",
       "    </tr>\n",
       "    <tr>\n",
       "      <th>65</th>\n",
       "      <td>Joker</td>\n",
       "      <td>Arthur Fleck, a party clown and a failed stand...</td>\n",
       "      <td>2019</td>\n",
       "      <td>122</td>\n",
       "      <td>15</td>\n",
       "      <td>8.3</td>\n",
       "      <td>59.0</td>\n",
       "      <td>1500.0</td>\n",
       "    </tr>\n",
       "    <tr>\n",
       "      <th>89</th>\n",
       "      <td>Kaithi</td>\n",
       "      <td>Dilli, an ex-convict, endeavours to meet his d...</td>\n",
       "      <td>2019</td>\n",
       "      <td>145</td>\n",
       "      <td>12A</td>\n",
       "      <td>8.3</td>\n",
       "      <td>NaN</td>\n",
       "      <td>43.0</td>\n",
       "    </tr>\n",
       "    <tr>\n",
       "      <th>90</th>\n",
       "      <td>Asuran</td>\n",
       "      <td>The teenage son of a farmer from an underprivi...</td>\n",
       "      <td>2019</td>\n",
       "      <td>141</td>\n",
       "      <td>12A</td>\n",
       "      <td>8.3</td>\n",
       "      <td>NaN</td>\n",
       "      <td>34.0</td>\n",
       "    </tr>\n",
       "  </tbody>\n",
       "</table>\n",
       "</div>"
      ],
      "text/plain": [
       "                       title  \\\n",
       "0   The Shawshank Redemption   \n",
       "8               Pulp Fiction   \n",
       "10              Forrest Gump   \n",
       "41                  Parasite   \n",
       "45                      Leon   \n",
       "47             The Lion King   \n",
       "64         Avengers: Endgame   \n",
       "65                     Joker   \n",
       "89                    Kaithi   \n",
       "90                    Asuran   \n",
       "\n",
       "                                          description  release_year  duration  \\\n",
       "0   Over the course of several years, two convicts...          1994       142   \n",
       "8   The lives of two mob hitmen, a boxer, a gangst...          1994       154   \n",
       "10  The history of the United States from the 1950...          1994       142   \n",
       "41  Greed and class discrimination threaten the ne...          2019       132   \n",
       "45  12-year-old Mathilda is reluctantly taken in b...          1994       110   \n",
       "47  Lion prince Simba and his father are targeted ...          1994        88   \n",
       "64  After the devastating events of Avengers: Infi...          2019       181   \n",
       "65  Arthur Fleck, a party clown and a failed stand...          2019       122   \n",
       "89  Dilli, an ex-convict, endeavours to meet his d...          2019       145   \n",
       "90  The teenage son of a farmer from an underprivi...          2019       141   \n",
       "\n",
       "   classification  rating  metascore  votes_count(K)  \n",
       "0              15     8.3       82.0          2900.0  \n",
       "8              18     8.3       95.0          2200.0  \n",
       "10             12     8.3       82.0          2300.0  \n",
       "41             15     8.3       97.0           976.0  \n",
       "45             18     8.3       64.0          1300.0  \n",
       "47              U     8.3       88.0          1200.0  \n",
       "64            12A     8.3       78.0          1300.0  \n",
       "65             15     8.3       59.0          1500.0  \n",
       "89            12A     8.3        NaN            43.0  \n",
       "90            12A     8.3        NaN            34.0  "
      ]
     },
     "execution_count": 24,
     "metadata": {},
     "output_type": "execute_result"
    }
   ],
   "source": [
    "movies_1994_2019"
   ]
  },
  {
   "cell_type": "markdown",
   "metadata": {},
   "source": [
    "**The years 1994 and 2019 stand out for having a high number of movies in the top 100, each producing several critically acclaimed and popular films.**\n",
    "\n",
    "<ol>\n",
    "\n",
    "<li>For 1994: This year saw the release of numerous iconic films included in the data. Notably, <i>The Shawshank Redemption</i>, often considered one of the greatest films of all time, was nominated for 7 Academy Awards. <i>Pulp Fiction</i>, known for revolutionizing narrative structure in films, won Best Original Screenplay at the Academy Awards and the Palme d'Or at the Cannes Film Festival. Additionally, <i>Forrest Gump</i> won 6 Academy Awards, including Best Picture, and <i>The Lion King</i>, one of Disney's most successful animated films, won 2 Academy Awards and 3 Golden Globe Awards.</li>\n",
    "\n",
    "<li>For 2019: This year also produced several notable films. <i>Parasite</i> became the first non-English language film to win Best Picture. <i>Avengers: Endgame</i> was the second highest-grossing film of all time (until recently). <i>Joker</i> generated significant discussion on mental health and society, winning Best Actor and Best Original Score at the Academy Awards.</li>\n",
    "</ol>"
   ]
  },
  {
   "cell_type": "markdown",
   "metadata": {},
   "source": [
    "> Distribution of movie ratings"
   ]
  },
  {
   "cell_type": "code",
   "execution_count": 25,
   "metadata": {},
   "outputs": [],
   "source": [
    "import ipywidgets as widgets\n",
    "from ipywidgets import interact"
   ]
  },
  {
   "cell_type": "code",
   "execution_count": 26,
   "metadata": {},
   "outputs": [],
   "source": [
    "def plot_distribution(column):\n",
    "    sns.set(style='darkgrid')\n",
    "    plt.figure(figsize=(10, 6))\n",
    "    sns.histplot(df[column], bins=10, kde=True, color='darkblue', edgecolor='black')\n",
    "    plt.title(f'Distribution of {column.capitalize()}')\n",
    "    plt.xlabel(column.capitalize())\n",
    "    plt.ylabel('Number of Movies')\n",
    "    plt.grid(True)\n",
    "    plt.show()\n",
    "\n",
    "    # Find movie with highest value in the selected column\n",
    "    max_value_index = df[column].idxmax()\n",
    "    max_value_movie = df.loc[max_value_index, 'title']\n",
    "    max_value = df.loc[max_value_index, column]\n",
    "    \n",
    "    print(f\"Movie with highest {column}: {max_value_movie} ({max_value})\")\n"
   ]
  },
  {
   "cell_type": "code",
   "execution_count": 27,
   "metadata": {},
   "outputs": [],
   "source": [
    "max_metascore = df['metascore'].max()\n",
    "rows_with_max_metascore = df[df['metascore'] == max_metascore]"
   ]
  },
  {
   "cell_type": "code",
   "execution_count": 28,
   "metadata": {},
   "outputs": [
    {
     "name": "stdout",
     "output_type": "stream",
     "text": [
      "            title  metascore\n",
      "1   The Godfather      100.0\n",
      "51     Casablanca      100.0\n",
      "57    Rear Window      100.0\n"
     ]
    }
   ],
   "source": [
    "print(rows_with_max_metascore[['title', 'metascore']])"
   ]
  },
  {
   "cell_type": "code",
   "execution_count": 29,
   "metadata": {},
   "outputs": [],
   "source": [
    "column_selector = widgets.Dropdown(\n",
    "    options=['votes_count(K)', 'metascore', 'duration'],\n",
    "    value='votes_count(K)',\n",
    "    description='Select Column:',\n",
    "    disabled=False,\n",
    ")"
   ]
  },
  {
   "cell_type": "code",
   "execution_count": 30,
   "metadata": {},
   "outputs": [
    {
     "data": {
      "application/vnd.jupyter.widget-view+json": {
       "model_id": "7135708e126945e7ab670096c154a461",
       "version_major": 2,
       "version_minor": 0
      },
      "text/plain": [
       "interactive(children=(Dropdown(description='Select Column:', options=('votes_count(K)', 'metascore', 'duration…"
      ]
     },
     "metadata": {},
     "output_type": "display_data"
    },
    {
     "data": {
      "text/plain": [
       "<function __main__.plot_distribution(column)>"
      ]
     },
     "execution_count": 30,
     "metadata": {},
     "output_type": "execute_result"
    }
   ],
   "source": [
    "interact(plot_distribution, column=column_selector)"
   ]
  },
  {
   "cell_type": "code",
   "execution_count": 31,
   "metadata": {},
   "outputs": [
    {
     "name": "stdout",
     "output_type": "stream",
     "text": [
      "<class 'pandas.core.frame.DataFrame'>\n",
      "RangeIndex: 100 entries, 0 to 99\n",
      "Data columns (total 8 columns):\n",
      " #   Column          Non-Null Count  Dtype  \n",
      "---  ------          --------------  -----  \n",
      " 0   title           100 non-null    object \n",
      " 1   description     100 non-null    object \n",
      " 2   release_year    100 non-null    int64  \n",
      " 3   duration        100 non-null    int64  \n",
      " 4   classification  100 non-null    object \n",
      " 5   rating          100 non-null    float64\n",
      " 6   metascore       86 non-null     float64\n",
      " 7   votes_count(K)  100 non-null    float64\n",
      "dtypes: float64(3), int64(2), object(3)\n",
      "memory usage: 6.4+ KB\n"
     ]
    }
   ],
   "source": [
    "df.info()"
   ]
  },
  {
   "cell_type": "code",
   "execution_count": 32,
   "metadata": {},
   "outputs": [],
   "source": [
    "import plotly.express as px\n",
    "\n",
    "from ipywidgets.widgets import Dropdown"
   ]
  },
  {
   "cell_type": "code",
   "execution_count": 33,
   "metadata": {},
   "outputs": [],
   "source": [
    "from IPython.display import display, clear_output"
   ]
  },
  {
   "cell_type": "code",
   "execution_count": 34,
   "metadata": {},
   "outputs": [
    {
     "data": {
      "application/vnd.jupyter.widget-view+json": {
       "model_id": "e71cc408909e4bcb8c8435d29b1dae7b",
       "version_major": 2,
       "version_minor": 0
      },
      "text/plain": [
       "Dropdown(description='Select Column:', options=('votes_count(K)', 'metascore', 'duration'), value='votes_count…"
      ]
     },
     "metadata": {},
     "output_type": "display_data"
    },
    {
     "data": {
      "application/vnd.jupyter.widget-view+json": {
       "model_id": "ac8cea12f261491b900a20852a6c3820",
       "version_major": 2,
       "version_minor": 0
      },
      "text/plain": [
       "Button(description='Display Graph', style=ButtonStyle())"
      ]
     },
     "metadata": {},
     "output_type": "display_data"
    }
   ],
   "source": [
    "# Create a dropdown widget\n",
    "column_selector = widgets.Dropdown(\n",
    "    options=['votes_count(K)', 'metascore', 'duration'],\n",
    "    value='votes_count(K)',\n",
    "    description='Select Column:',\n",
    "    disabled=False,\n",
    ")\n",
    "\n",
    "# Display the top 5 largest values  \n",
    "def display_top5(column):\n",
    "    top5_df = df.nlargest(5, column)\n",
    "    fig = px.bar(top5_df, x='title', y=column, title=f'Top 5 Movies by {column}', text=column)\n",
    "    fig.show()\n",
    "\n",
    "display(column_selector)\n",
    "\n",
    "# Create a button widget\n",
    "button = widgets.Button(description='Display Graph', style=widgets.ButtonStyle())\n",
    "\n",
    "def on_button_click(button):\n",
    "    clear_output(wait=True)  \n",
    "    display(column_selector, button) \n",
    "    column = column_selector.value\n",
    "    display_top5(column)\n",
    "\n",
    "# Register the button click event\n",
    "button.on_click(on_button_click)\n",
    "\n",
    "# Display the button widget\n",
    "display(button)"
   ]
  },
  {
   "cell_type": "code",
   "execution_count": 35,
   "metadata": {},
   "outputs": [
    {
     "data": {
      "text/html": [
       "<div>\n",
       "<style scoped>\n",
       "    .dataframe tbody tr th:only-of-type {\n",
       "        vertical-align: middle;\n",
       "    }\n",
       "\n",
       "    .dataframe tbody tr th {\n",
       "        vertical-align: top;\n",
       "    }\n",
       "\n",
       "    .dataframe thead th {\n",
       "        text-align: right;\n",
       "    }\n",
       "</style>\n",
       "<table border=\"1\" class=\"dataframe\">\n",
       "  <thead>\n",
       "    <tr style=\"text-align: right;\">\n",
       "      <th></th>\n",
       "      <th>title</th>\n",
       "      <th>description</th>\n",
       "      <th>release_year</th>\n",
       "      <th>duration</th>\n",
       "      <th>classification</th>\n",
       "      <th>rating</th>\n",
       "      <th>metascore</th>\n",
       "      <th>votes_count(K)</th>\n",
       "    </tr>\n",
       "  </thead>\n",
       "  <tbody>\n",
       "    <tr>\n",
       "      <th>0</th>\n",
       "      <td>The Shawshank Redemption</td>\n",
       "      <td>Over the course of several years, two convicts...</td>\n",
       "      <td>1994</td>\n",
       "      <td>142</td>\n",
       "      <td>15</td>\n",
       "      <td>8.3</td>\n",
       "      <td>82.0</td>\n",
       "      <td>2900.0</td>\n",
       "    </tr>\n",
       "    <tr>\n",
       "      <th>1</th>\n",
       "      <td>The Godfather</td>\n",
       "      <td>Don Vito Corleone, head of a mafia family, dec...</td>\n",
       "      <td>1972</td>\n",
       "      <td>175</td>\n",
       "      <td>15</td>\n",
       "      <td>8.3</td>\n",
       "      <td>100.0</td>\n",
       "      <td>2000.0</td>\n",
       "    </tr>\n",
       "    <tr>\n",
       "      <th>2</th>\n",
       "      <td>The Dark Knight</td>\n",
       "      <td>When the menace known as the Joker wreaks havo...</td>\n",
       "      <td>2008</td>\n",
       "      <td>152</td>\n",
       "      <td>12A</td>\n",
       "      <td>8.3</td>\n",
       "      <td>84.0</td>\n",
       "      <td>2900.0</td>\n",
       "    </tr>\n",
       "    <tr>\n",
       "      <th>3</th>\n",
       "      <td>Schindler's List</td>\n",
       "      <td>In German-occupied Poland during World War II,...</td>\n",
       "      <td>1993</td>\n",
       "      <td>195</td>\n",
       "      <td>15</td>\n",
       "      <td>8.3</td>\n",
       "      <td>95.0</td>\n",
       "      <td>1500.0</td>\n",
       "    </tr>\n",
       "    <tr>\n",
       "      <th>4</th>\n",
       "      <td>The Lord of the Rings: The Return of the King</td>\n",
       "      <td>Gandalf and Aragorn lead the World of Men agai...</td>\n",
       "      <td>2003</td>\n",
       "      <td>201</td>\n",
       "      <td>12A</td>\n",
       "      <td>8.3</td>\n",
       "      <td>94.0</td>\n",
       "      <td>2000.0</td>\n",
       "    </tr>\n",
       "  </tbody>\n",
       "</table>\n",
       "</div>"
      ],
      "text/plain": [
       "                                           title  \\\n",
       "0                       The Shawshank Redemption   \n",
       "1                                  The Godfather   \n",
       "2                                The Dark Knight   \n",
       "3                               Schindler's List   \n",
       "4  The Lord of the Rings: The Return of the King   \n",
       "\n",
       "                                         description  release_year  duration  \\\n",
       "0  Over the course of several years, two convicts...          1994       142   \n",
       "1  Don Vito Corleone, head of a mafia family, dec...          1972       175   \n",
       "2  When the menace known as the Joker wreaks havo...          2008       152   \n",
       "3  In German-occupied Poland during World War II,...          1993       195   \n",
       "4  Gandalf and Aragorn lead the World of Men agai...          2003       201   \n",
       "\n",
       "  classification  rating  metascore  votes_count(K)  \n",
       "0             15     8.3       82.0          2900.0  \n",
       "1             15     8.3      100.0          2000.0  \n",
       "2            12A     8.3       84.0          2900.0  \n",
       "3             15     8.3       95.0          1500.0  \n",
       "4            12A     8.3       94.0          2000.0  "
      ]
     },
     "execution_count": 35,
     "metadata": {},
     "output_type": "execute_result"
    }
   ],
   "source": [
    "#check\n",
    "df.head()"
   ]
  }
 ],
 "metadata": {
  "kernelspec": {
   "display_name": "web-scraping",
   "language": "python",
   "name": "python3"
  },
  "language_info": {
   "codemirror_mode": {
    "name": "ipython",
    "version": 3
   },
   "file_extension": ".py",
   "mimetype": "text/x-python",
   "name": "python",
   "nbconvert_exporter": "python",
   "pygments_lexer": "ipython3",
   "version": "3.12.4"
  }
 },
 "nbformat": 4,
 "nbformat_minor": 2
}
