{
 "cells": [
  {
   "cell_type": "code",
   "execution_count": 1,
   "metadata": {},
   "outputs": [],
   "source": [
    "import requests \n",
    "from bs4 import BeautifulSoup\n",
    "import pandas as pd \n",
    "import numpy as np "
   ]
  },
  {
   "cell_type": "markdown",
   "metadata": {},
   "source": [
    "https://github.com/sivasahukar95/CodeStore/blob/master/Scraping%20data%20from%20imdb.ipynb "
   ]
  },
  {
   "cell_type": "markdown",
   "metadata": {},
   "source": [
    "https://www.youtube.com/watch?v=I5L3OJ-xtsw"
   ]
  },
  {
   "cell_type": "code",
   "execution_count": 2,
   "metadata": {},
   "outputs": [],
   "source": [
    "# Top 1000, sorted by user rating ascending \n",
    "headers = {\n",
    "    \"User-Agent\": \"Mozilla/5.0 (Macintosh; Intel Mac OS X 10_14_3) AppleWebKit/537.36 (KHTML, like Gecko) Chrome/125.0.6422.142 Safari/537.36\",\n",
    "    \"Accept\": \"text/html,application/xhtml+xml,application/xml;q=0.9,image/webp,image/apng,*/*;q=0.8\"\n",
    "}\n",
    "\n",
    "url = \"https://www.imdb.com/list/ls091520106/\"\n",
    "\n",
    "response = requests.get(url, headers=headers)\n",
    "\n",
    "soup = BeautifulSoup(response.text, 'html.parser')\n",
    "\n",
    "# soup = BeautifulSoup(response.content, 'html.parser')\n"
   ]
  },
  {
   "cell_type": "code",
   "execution_count": 3,
   "metadata": {},
   "outputs": [],
   "source": [
    "title = []\n",
    "years = []\n",
    "duration = []\n",
    "ratings = []\n",
    "metascores = []\n",
    "\n",
    "vote_count = []\n",
    "classifications = []\n",
    "\n",
    "descriptions = []"
   ]
  },
  {
   "cell_type": "code",
   "execution_count": 4,
   "metadata": {},
   "outputs": [],
   "source": [
    "# update movie title \n",
    "\n",
    "movie_title = soup.find_all('a', attrs={'class':'ipc-title-link-wrapper'})\n",
    "for store in movie_title:\n",
    "    name = store.h3.text\n",
    "    title.append(name)"
   ]
  },
  {
   "cell_type": "code",
   "execution_count": 5,
   "metadata": {},
   "outputs": [
    {
     "name": "stdout",
     "output_type": "stream",
     "text": [
      "25\n"
     ]
    }
   ],
   "source": [
    "print(len(movie_title))\n"
   ]
  },
  {
   "cell_type": "code",
   "execution_count": 6,
   "metadata": {},
   "outputs": [],
   "source": [
    "# update movie year, duration, classification\n",
    "\n",
    "details = soup.findAll('div', attrs = {'class':'sc-b189961a-7 feoqjK dli-title-metadata'})\n",
    "\n",
    "for detail in details:\n",
    "    year_span = detail.span\n",
    "    duration_span = year_span.find_next_sibling('span')\n",
    "    class_span = duration_span.find_next_sibling('span')\n",
    "    \n",
    "    years.append(year_span.text)\n",
    "    duration.append(duration_span.text)\n",
    "    classifications.append(class_span.text)"
   ]
  },
  {
   "cell_type": "code",
   "execution_count": 7,
   "metadata": {},
   "outputs": [],
   "source": [
    "# update movie rating, vote count\n",
    "\n",
    "stars = soup.findAll('span', attrs={'class':'ipc-rating-star ipc-rating-star--base ipc-rating-star--imdb ratingGroup--imdb-rating'})\n",
    "\n",
    "stars = [star.text for star in stars]\n",
    "\n",
    "for star in stars:\n",
    "    rating, vote = star.split('\\xa0')\n",
    "    ratings.append(rating)\n",
    "    vote_count.append(vote.strip('()'))"
   ]
  },
  {
   "cell_type": "code",
   "execution_count": 8,
   "metadata": {},
   "outputs": [],
   "source": [
    "# update descriptions \n",
    "\n",
    "des_lst = soup.findAll('div', attrs={'class':'ipc-html-content-inner-div'})\n",
    "\n",
    "descriptions = [des.text for des in des_lst]\n"
   ]
  },
  {
   "cell_type": "code",
   "execution_count": 9,
   "metadata": {},
   "outputs": [],
   "source": [
    "length = len(title)"
   ]
  },
  {
   "cell_type": "code",
   "execution_count": 10,
   "metadata": {},
   "outputs": [],
   "source": [
    "# update metascore\n",
    "def get_metascores():\n",
    "    check = soup.find('span', attrs={'class':'sc-b189961a-1 kcfvgk'})\n",
    "    ele = soup.find('span', attrs={'class':'sc-b0901df4-0 bcQdDJ metacritic-score-box'})\n",
    "    for i in range(length):\n",
    "        if (len(check) == 1):\n",
    "            metascores.append(np.nan)\n",
    "        else:\n",
    "            metascores.append(ele.text)\n",
    "            ele = ele.find_next('span', attrs={'class':'sc-b0901df4-0 bcQdDJ metacritic-score-box'})\n",
    "        check = check.find_next('span', attrs={'class':'sc-b189961a-1 kcfvgk'}) "
   ]
  },
  {
   "cell_type": "code",
   "execution_count": 11,
   "metadata": {},
   "outputs": [],
   "source": [
    "get_metascores()"
   ]
  },
  {
   "cell_type": "code",
   "execution_count": 13,
   "metadata": {},
   "outputs": [],
   "source": [
    "movie_DF = pd.DataFrame({'Name of movie': title, 'Year of relase': years, 'Watchtime': duration, 'Movie Rating': rating, 'Metascore': metascores, 'Votes': vote_count, 'Classification': classifications})"
   ]
  },
  {
   "cell_type": "code",
   "execution_count": 14,
   "metadata": {},
   "outputs": [],
   "source": [
    "movie_DF.to_csv(\"Top_100_IMDB_Movies.csv\", index=False)"
   ]
  }
 ],
 "metadata": {
  "kernelspec": {
   "display_name": "scraping",
   "language": "python",
   "name": "python3"
  },
  "language_info": {
   "codemirror_mode": {
    "name": "ipython",
    "version": 3
   },
   "file_extension": ".py",
   "mimetype": "text/x-python",
   "name": "python",
   "nbconvert_exporter": "python",
   "pygments_lexer": "ipython3",
   "version": "3.12.4"
  }
 },
 "nbformat": 4,
 "nbformat_minor": 2
}
