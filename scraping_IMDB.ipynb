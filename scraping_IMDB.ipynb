{
 "cells": [
  {
   "cell_type": "code",
   "execution_count": 46,
   "metadata": {},
   "outputs": [],
   "source": [
    "from selenium import webdriver\n",
    "import pandas as pd\n",
    "import numpy as np"
   ]
  },
  {
   "cell_type": "code",
   "execution_count": 7,
   "metadata": {},
   "outputs": [],
   "source": [
    "from selenium import webdriver\n",
    "from selenium.webdriver.common.by import By\n",
    "from selenium.webdriver.chrome.service import Service\n",
    "from selenium.webdriver.chrome.options import Options\n",
    "from selenium.webdriver.common.keys import Keys\n",
    "from bs4 import BeautifulSoup"
   ]
  },
  {
   "cell_type": "code",
   "execution_count": 10,
   "metadata": {},
   "outputs": [],
   "source": [
    "PATH = \"/usr/local/bin/chromedriver\""
   ]
  },
  {
   "cell_type": "code",
   "execution_count": 11,
   "metadata": {},
   "outputs": [],
   "source": [
    "service = Service(PATH)\n",
    "driver = webdriver.Chrome(service=service)"
   ]
  },
  {
   "cell_type": "code",
   "execution_count": 35,
   "metadata": {},
   "outputs": [],
   "source": [
    "driver.get(\"https://www.imdb.com/search/title/?groups=top_1000&count=100&sort=user_rating,desc\")"
   ]
  },
  {
   "cell_type": "code",
   "execution_count": 36,
   "metadata": {},
   "outputs": [],
   "source": [
    "soup = BeautifulSoup(driver.page_source, 'html.parser')\n"
   ]
  },
  {
   "cell_type": "code",
   "execution_count": 53,
   "metadata": {},
   "outputs": [],
   "source": [
    "title = []\n",
    "years = []\n",
    "duration = []\n",
    "classifications = []\n",
    "ratings = []\n",
    "vote_count = []\n",
    "\n",
    "metascores = []\n",
    "description = []"
   ]
  },
  {
   "cell_type": "code",
   "execution_count": 54,
   "metadata": {},
   "outputs": [],
   "source": [
    "# update movie title \n",
    "\n",
    "movie_title = soup.find_all('a', attrs={'class':'ipc-title-link-wrapper'})\n",
    "for store in movie_title:\n",
    "    name = store.h3.text\n",
    "    title.append(name)\n"
   ]
  },
  {
   "cell_type": "code",
   "execution_count": 55,
   "metadata": {},
   "outputs": [],
   "source": [
    "# update movie year, duration, classification\n",
    "\n",
    "details = soup.findAll('div', attrs = {'class':'sc-b189961a-7 feoqjK dli-title-metadata'})\n",
    "\n",
    "for detail in details:\n",
    "    year_span = detail.span\n",
    "    duration_span = year_span.find_next_sibling('span')\n",
    "    class_span = duration_span.find_next_sibling('span')\n",
    "    \n",
    "    years.append(year_span.text)\n",
    "    duration.append(duration_span.text)\n",
    "    classifications.append(class_span.text)"
   ]
  },
  {
   "cell_type": "code",
   "execution_count": 56,
   "metadata": {},
   "outputs": [],
   "source": [
    "# update movie rating, vote count\n",
    "\n",
    "stars = soup.findAll('span', attrs={'class':'ipc-rating-star ipc-rating-star--base ipc-rating-star--imdb ratingGroup--imdb-rating'})\n",
    "\n",
    "stars = [star.text for star in stars]\n",
    "\n",
    "for star in stars:\n",
    "    rating, vote = star.split('\\xa0')\n",
    "    ratings.append(rating)\n",
    "    vote_count.append(vote.strip('()'))"
   ]
  },
  {
   "cell_type": "code",
   "execution_count": 57,
   "metadata": {},
   "outputs": [],
   "source": [
    "length = 100"
   ]
  },
  {
   "cell_type": "code",
   "execution_count": 58,
   "metadata": {},
   "outputs": [],
   "source": [
    "def get_metascores():\n",
    "    check = soup.find('span', attrs={'class':'sc-b189961a-1 kcfvgk'})\n",
    "    ele = soup.find('span', attrs={'class':'sc-b0901df4-0 bcQdDJ metacritic-score-box'})\n",
    "    for i in range(length):\n",
    "        if (len(check) == 1):\n",
    "            metascores.append(np.nan)\n",
    "        else:\n",
    "            metascores.append(ele.text)\n",
    "            ele = ele.find_next('span', attrs={'class':'sc-b0901df4-0 bcQdDJ metacritic-score-box'})\n",
    "        check = check.find_next('span', attrs={'class':'sc-b189961a-1 kcfvgk'}) "
   ]
  },
  {
   "cell_type": "code",
   "execution_count": 59,
   "metadata": {},
   "outputs": [],
   "source": [
    "get_metascores()"
   ]
  },
  {
   "cell_type": "code",
   "execution_count": 60,
   "metadata": {},
   "outputs": [],
   "source": [
    "# update descriptions \n",
    "\n",
    "des_lst = soup.findAll('div', attrs={'class':'ipc-html-content-inner-div'})\n",
    "\n",
    "descriptions = [des.text for des in des_lst]"
   ]
  },
  {
   "cell_type": "code",
   "execution_count": 64,
   "metadata": {},
   "outputs": [
    {
     "name": "stdout",
     "output_type": "stream",
     "text": [
      "100\n"
     ]
    }
   ],
   "source": [
    "print(len(descriptions))"
   ]
  },
  {
   "cell_type": "code",
   "execution_count": 65,
   "metadata": {},
   "outputs": [],
   "source": [
    "movie_DF = pd.DataFrame({'Name of movie': title, 'Description': descriptions, 'Year of relase': years, 'Watchtime': duration,'Classification': classifications, 'Movie Rating': rating, 'Metascore': metascores, 'Votes': vote_count})"
   ]
  },
  {
   "cell_type": "code",
   "execution_count": 66,
   "metadata": {},
   "outputs": [],
   "source": [
    "movie_DF.to_csv(\"Top_100_IMDB_Movies.csv\", index=False)"
   ]
  }
 ],
 "metadata": {
  "kernelspec": {
   "display_name": "web-scraping",
   "language": "python",
   "name": "python3"
  },
  "language_info": {
   "codemirror_mode": {
    "name": "ipython",
    "version": 3
   },
   "file_extension": ".py",
   "mimetype": "text/x-python",
   "name": "python",
   "nbconvert_exporter": "python",
   "pygments_lexer": "ipython3",
   "version": "3.12.4"
  }
 },
 "nbformat": 4,
 "nbformat_minor": 2
}
